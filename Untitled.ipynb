{
 "cells": [
  {
   "cell_type": "code",
   "execution_count": 3,
   "id": "f52443c0-1b48-423d-9180-ab4dea5bdd16",
   "metadata": {},
   "outputs": [
    {
     "data": {
      "text/plain": [
       "'Bienvenu dans le monde du python! Commencons a coder '"
      ]
     },
     "execution_count": 3,
     "metadata": {},
     "output_type": "execute_result"
    }
   ],
   "source": [
    "\"Bienvenu dans le monde du python! Commencons a coder \"\n"
   ]
  },
  {
   "cell_type": "code",
   "execution_count": null,
   "id": "5a8de218-c6a4-4fcf-9a7b-a273f59e581e",
   "metadata": {},
   "outputs": [],
   "source": []
  }
 ],
 "metadata": {
  "kernelspec": {
   "display_name": "Python 3 (ipykernel)",
   "language": "python",
   "name": "python3"
  },
  "language_info": {
   "codemirror_mode": {
    "name": "ipython",
    "version": 3
   },
   "file_extension": ".py",
   "mimetype": "text/x-python",
   "name": "python",
   "nbconvert_exporter": "python",
   "pygments_lexer": "ipython3",
   "version": "3.9.7"
  }
 },
 "nbformat": 4,
 "nbformat_minor": 5
}
